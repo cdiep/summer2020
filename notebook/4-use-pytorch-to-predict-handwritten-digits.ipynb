{
 "cells": [
  {
   "cell_type": "markdown",
   "metadata": {},
   "source": [
    "# Use PyTorch to predict handwritten digits\n",
    "<table style=\"border: none\" align=\"left\">\n",
    "   <tr style=\"border: none\">\n",
    "       <td style=\"border: none\"><img src=\"https://github.com/IBM/pytorch-on-watson-studio/raw/master/doc/source/images/pytorch-pattern-header.jpg\" width=\"600\" alt=\"Icon\"></td>\n",
    "   </tr>\n",
    "</table>"
   ]
  },
  {
   "cell_type": "markdown",
   "metadata": {},
   "source": [
    "The sample model used here is the <a href=\"https://github.com/pytorch/examples/tree/master/mnist\">MNIST model</a> from the official PyTorch examples repository. \n",
    "\n",
    "## Training MNIST Model"
   ]
  },
  {
   "cell_type": "markdown",
   "metadata": {},
   "source": [
    "** PyTorch Tools & Libraries **\n",
    "\n",
    "An active community of researchers and developers have built a rich\n",
    "ecosystem of tools and libraries for extending PyTorch and supporting\n",
    "development in areas from computer vision to reinforcement learning.\n",
    "\n",
    "PyTorch's <a href=\"https://github.com/pytorch/vision\" target=\"_blank\"\n",
    "rel=\"noopener no referrer\">torchvision</a> is one of those packages.\n",
    "`torchvision` consists of popular datasets, model architectures, and common\n",
    "image transformations for computer vision.\n",
    "\n",
    "This tutorial will use `torchvision's MNIST dataset` package to download\n",
    "and process the training data."
   ]
  },
  {
   "cell_type": "markdown",
   "metadata": {},
   "source": [
    "The following code will download and process the MNIST training and test data. "
   ]
  },
  {
   "cell_type": "code",
   "execution_count": 1,
   "metadata": {},
   "outputs": [
    {
     "name": "stdout",
     "output_type": "stream",
     "text": [
      "Requirement already satisfied: torchvision in /opt/anaconda/envs/wmlce/lib/python3.7/site-packages (0.4.0a0)\n",
      "Requirement already satisfied: numpy in /opt/anaconda/envs/wmlce/lib/python3.7/site-packages (from torchvision) (1.16.5)\n",
      "Requirement already satisfied: six in /opt/anaconda/envs/wmlce/lib/python3.7/site-packages (from torchvision) (1.12.0)\n",
      "Requirement already satisfied: torch in /opt/anaconda/envs/wmlce/lib/python3.7/site-packages (from torchvision) (1.2.0)\n",
      "Requirement already satisfied: pillow>=4.1.1 in /opt/anaconda/envs/wmlce/lib/python3.7/site-packages (from torchvision) (6.2.1)\n"
     ]
    }
   ],
   "source": [
    "!pip install torchvision"
   ]
  },
  {
   "cell_type": "code",
   "execution_count": 2,
   "metadata": {},
   "outputs": [
    {
     "name": "stderr",
     "output_type": "stream",
     "text": [
      "0it [00:00, ?it/s]"
     ]
    },
    {
     "name": "stdout",
     "output_type": "stream",
     "text": [
      "Downloading http://yann.lecun.com/exdb/mnist/train-images-idx3-ubyte.gz to ./data/MNIST/raw/train-images-idx3-ubyte.gz\n"
     ]
    },
    {
     "name": "stderr",
     "output_type": "stream",
     "text": [
      "9920512it [00:02, 4214465.69it/s]                             \n"
     ]
    },
    {
     "name": "stdout",
     "output_type": "stream",
     "text": [
      "Extracting ./data/MNIST/raw/train-images-idx3-ubyte.gz to ./data/MNIST/raw\n"
     ]
    },
    {
     "name": "stderr",
     "output_type": "stream",
     "text": [
      "  0%|          | 0/28881 [00:00<?, ?it/s]"
     ]
    },
    {
     "name": "stdout",
     "output_type": "stream",
     "text": [
      "Downloading http://yann.lecun.com/exdb/mnist/train-labels-idx1-ubyte.gz to ./data/MNIST/raw/train-labels-idx1-ubyte.gz\n"
     ]
    },
    {
     "name": "stderr",
     "output_type": "stream",
     "text": [
      "32768it [00:00, 139601.80it/s]           \n",
      "  0%|          | 0/1648877 [00:00<?, ?it/s]"
     ]
    },
    {
     "name": "stdout",
     "output_type": "stream",
     "text": [
      "Extracting ./data/MNIST/raw/train-labels-idx1-ubyte.gz to ./data/MNIST/raw\n",
      "Downloading http://yann.lecun.com/exdb/mnist/t10k-images-idx3-ubyte.gz to ./data/MNIST/raw/t10k-images-idx3-ubyte.gz\n"
     ]
    },
    {
     "name": "stderr",
     "output_type": "stream",
     "text": [
      "1654784it [00:00, 3615810.28it/s]                           \n",
      "8192it [00:00, 72302.50it/s]            \n"
     ]
    },
    {
     "name": "stdout",
     "output_type": "stream",
     "text": [
      "Extracting ./data/MNIST/raw/t10k-images-idx3-ubyte.gz to ./data/MNIST/raw\n",
      "Downloading http://yann.lecun.com/exdb/mnist/t10k-labels-idx1-ubyte.gz to ./data/MNIST/raw/t10k-labels-idx1-ubyte.gz\n",
      "Extracting ./data/MNIST/raw/t10k-labels-idx1-ubyte.gz to ./data/MNIST/raw\n",
      "Processing...\n",
      "Done!\n"
     ]
    }
   ],
   "source": [
    "import torch\n",
    "from torchvision import datasets, transforms\n",
    "\n",
    "data_dir = './data'\n",
    "\n",
    "train_ds = datasets.MNIST(data_dir, train=True, download=True,\n",
    "                       transform=transforms.Compose([\n",
    "                           transforms.ToTensor(),\n",
    "                           transforms.Normalize((0.1307,), (0.3081,))\n",
    "                       ]))\n",
    "test_ds = datasets.MNIST(data_dir, train=False,\n",
    "                         transform=transforms.Compose([\n",
    "                           transforms.ToTensor(),\n",
    "                           transforms.Normalize((0.1307,), (0.3081,))\n",
    "                       ]))"
   ]
  },
  {
   "cell_type": "markdown",
   "metadata": {},
   "source": [
    "Have a look at the list of the created buckets and their contents."
   ]
  },
  {
   "cell_type": "markdown",
   "metadata": {},
   "source": [
    "** Define model **\n"
   ]
  },
  {
   "cell_type": "code",
   "execution_count": 3,
   "metadata": {},
   "outputs": [],
   "source": [
    "import torch.nn as nn\n",
    "import torch.nn.functional as F\n",
    "\n",
    "class Net(nn.Module):\n",
    "    def __init__(self):\n",
    "        super(Net, self).__init__()\n",
    "        self.conv1 = nn.Conv2d(1, 10, kernel_size=5)\n",
    "        self.conv2 = nn.Conv2d(10, 20, kernel_size=5)\n",
    "        self.conv2_drop = nn.Dropout2d()\n",
    "        self.fc1 = nn.Linear(320, 50)\n",
    "        self.fc2 = nn.Linear(50, 10)\n",
    "\n",
    "    def forward(self, x):\n",
    "        x = F.relu(F.max_pool2d(self.conv1(x), 2))\n",
    "        x = F.relu(F.max_pool2d(self.conv2_drop(self.conv2(x)), 2))\n",
    "        x = x.view(-1, 320)\n",
    "        x = F.relu(self.fc1(x))\n",
    "        x = F.dropout(x, training=self.training)\n",
    "        x = self.fc2(x)\n",
    "        return F.log_softmax(x, dim=1)"
   ]
  },
  {
   "cell_type": "markdown",
   "metadata": {},
   "source": [
    "** Define training loop **"
   ]
  },
  {
   "cell_type": "code",
   "execution_count": 4,
   "metadata": {},
   "outputs": [],
   "source": [
    "def train(args, model, device, train_loader, optimizer, epoch):\n",
    "    model.train()\n",
    "    for batch_idx, (data, target) in enumerate(train_loader):\n",
    "        data, target = data.to(device), target.to(device)\n",
    "        optimizer.zero_grad()\n",
    "        output = model(data)\n",
    "        loss = F.nll_loss(output, target)\n",
    "        loss.backward()\n",
    "        optimizer.step()\n",
    "        if batch_idx % args.log_interval == 0:\n",
    "            print('Train Epoch: {} [{}/{} ({:.0f}%)]\\tLoss: {:.6f}'.format(\n",
    "                epoch, batch_idx * len(data), len(train_loader.dataset),\n",
    "                100. * batch_idx / len(train_loader), loss.item()))"
   ]
  },
  {
   "cell_type": "markdown",
   "metadata": {},
   "source": [
    "** Test loop **"
   ]
  },
  {
   "cell_type": "code",
   "execution_count": 5,
   "metadata": {},
   "outputs": [],
   "source": [
    "def test(args, model, device, test_loader):\n",
    "    model.eval()\n",
    "    test_loss = 0\n",
    "    correct = 0\n",
    "    with torch.no_grad():\n",
    "        for data, target in test_loader:\n",
    "            data, target = data.to(device), target.to(device)\n",
    "            output = model(data)\n",
    "            test_loss += F.nll_loss(output, target, reduction='sum').item() # sum up batch loss\n",
    "            pred = output.argmax(dim=1, keepdim=True) # get the index of the max log-probability\n",
    "            correct += pred.eq(target.view_as(pred)).sum().item()\n",
    "\n",
    "    test_loss /= len(test_loader.dataset)\n",
    "\n",
    "    print('\\nTest set: Average loss: {:.4f}, Accuracy: {}/{} ({:.0f}%)\\n'.format(\n",
    "        test_loss, correct, len(test_loader.dataset),\n",
    "        100. * correct / len(test_loader.dataset)))"
   ]
  },
  {
   "cell_type": "markdown",
   "metadata": {},
   "source": [
    "** Argument setting **"
   ]
  },
  {
   "cell_type": "code",
   "execution_count": 6,
   "metadata": {},
   "outputs": [
    {
     "name": "stdout",
     "output_type": "stream",
     "text": [
      "Namespace(batch_size=64, epochs=1, log_interval=10, lr=0.01, momentum=0.5, no_cuda=False, save_model=False, seed=1, test_batch_size=1000)\n"
     ]
    }
   ],
   "source": [
    "import argparse\n",
    "    # Training settings\n",
    "parser = argparse.ArgumentParser(description='PyTorch MNIST Example')\n",
    "parser.add_argument('--batch-size', type=int, default=64, metavar='N',\n",
    "                    help='input batch size for training (default: 64)')\n",
    "parser.add_argument('--test-batch-size', type=int, default=1000, metavar='N',\n",
    "                    help='input batch size for testing (default: 1000)')\n",
    "parser.add_argument('--epochs', type=int, default=10, metavar='N',\n",
    "                    help='number of epochs to train (default: 10)')\n",
    "parser.add_argument('--lr', type=float, default=0.01, metavar='LR',\n",
    "                    help='learning rate (default: 0.01)')\n",
    "parser.add_argument('--momentum', type=float, default=0.5, metavar='M',\n",
    "                    help='SGD momentum (default: 0.5)')\n",
    "parser.add_argument('--no-cuda', action='store_true', default=False,\n",
    "                    help='disables CUDA training')\n",
    "parser.add_argument('--seed', type=int, default=1, metavar='S',\n",
    "                    help='random seed (default: 1)')\n",
    "parser.add_argument('--log-interval', type=int, default=10, metavar='N',\n",
    "                    help='how many batches to wait before logging training status')\n",
    "    \n",
    "parser.add_argument('--save-model', action='store_true', default=False,\n",
    "                    help='For Saving the current Model')\n",
    "#args = parser.parse_args(['--epochs','1', '--no-cuda'])\n",
    "args = parser.parse_args(['--epochs','1'])\n",
    "print(args)"
   ]
  },
  {
   "cell_type": "markdown",
   "metadata": {},
   "source": [
    "** Prepare for training **"
   ]
  },
  {
   "cell_type": "code",
   "execution_count": 7,
   "metadata": {},
   "outputs": [],
   "source": [
    "import torch.optim as optim\n",
    "\n",
    "use_cuda = not args.no_cuda and torch.cuda.is_available()\n",
    "device = torch.device(\"cuda\" if use_cuda else \"cpu\")\n",
    "\n",
    "kwargs = {'num_workers': 1, 'pin_memory': True} if use_cuda else {}\n",
    "train_loader = torch.utils.data.DataLoader(train_ds,\n",
    "                        batch_size=args.batch_size, shuffle=True, **kwargs)\n",
    "test_loader = torch.utils.data.DataLoader(test_ds, \n",
    "                        batch_size=args.test_batch_size, shuffle=True, **kwargs)\n",
    "\n",
    "model = Net().to(device)\n",
    "optimizer = optim.SGD(model.parameters(), lr=args.lr, momentum=args.momentum)"
   ]
  },
  {
   "cell_type": "markdown",
   "metadata": {},
   "source": [
    "** Run the training loop **"
   ]
  },
  {
   "cell_type": "code",
   "execution_count": 8,
   "metadata": {
    "scrolled": true
   },
   "outputs": [
    {
     "name": "stdout",
     "output_type": "stream",
     "text": [
      "Train Epoch: 1 [0/60000 (0%)]\tLoss: 2.330959\n",
      "Train Epoch: 1 [640/60000 (1%)]\tLoss: 2.355268\n",
      "Train Epoch: 1 [1280/60000 (2%)]\tLoss: 2.282203\n",
      "Train Epoch: 1 [1920/60000 (3%)]\tLoss: 2.262905\n",
      "Train Epoch: 1 [2560/60000 (4%)]\tLoss: 2.206378\n",
      "Train Epoch: 1 [3200/60000 (5%)]\tLoss: 2.234866\n",
      "Train Epoch: 1 [3840/60000 (6%)]\tLoss: 2.209639\n",
      "Train Epoch: 1 [4480/60000 (7%)]\tLoss: 2.159384\n",
      "Train Epoch: 1 [5120/60000 (9%)]\tLoss: 2.115429\n",
      "Train Epoch: 1 [5760/60000 (10%)]\tLoss: 2.010443\n",
      "Train Epoch: 1 [6400/60000 (11%)]\tLoss: 1.864485\n",
      "Train Epoch: 1 [7040/60000 (12%)]\tLoss: 1.780141\n",
      "Train Epoch: 1 [7680/60000 (13%)]\tLoss: 1.737139\n",
      "Train Epoch: 1 [8320/60000 (14%)]\tLoss: 1.590657\n",
      "Train Epoch: 1 [8960/60000 (15%)]\tLoss: 1.421334\n",
      "Train Epoch: 1 [9600/60000 (16%)]\tLoss: 1.512587\n",
      "Train Epoch: 1 [10240/60000 (17%)]\tLoss: 1.263209\n",
      "Train Epoch: 1 [10880/60000 (18%)]\tLoss: 1.198920\n",
      "Train Epoch: 1 [11520/60000 (19%)]\tLoss: 1.311268\n",
      "Train Epoch: 1 [12160/60000 (20%)]\tLoss: 1.036210\n",
      "Train Epoch: 1 [12800/60000 (21%)]\tLoss: 1.027615\n",
      "Train Epoch: 1 [13440/60000 (22%)]\tLoss: 1.121723\n",
      "Train Epoch: 1 [14080/60000 (23%)]\tLoss: 0.972476\n",
      "Train Epoch: 1 [14720/60000 (25%)]\tLoss: 0.863319\n",
      "Train Epoch: 1 [15360/60000 (26%)]\tLoss: 0.888846\n",
      "Train Epoch: 1 [16000/60000 (27%)]\tLoss: 0.907393\n",
      "Train Epoch: 1 [16640/60000 (28%)]\tLoss: 1.048172\n",
      "Train Epoch: 1 [17280/60000 (29%)]\tLoss: 0.846840\n",
      "Train Epoch: 1 [17920/60000 (30%)]\tLoss: 1.015224\n",
      "Train Epoch: 1 [18560/60000 (31%)]\tLoss: 0.786030\n",
      "Train Epoch: 1 [19200/60000 (32%)]\tLoss: 0.812900\n",
      "Train Epoch: 1 [19840/60000 (33%)]\tLoss: 0.907903\n",
      "Train Epoch: 1 [20480/60000 (34%)]\tLoss: 0.676941\n",
      "Train Epoch: 1 [21120/60000 (35%)]\tLoss: 0.995191\n",
      "Train Epoch: 1 [21760/60000 (36%)]\tLoss: 0.859366\n",
      "Train Epoch: 1 [22400/60000 (37%)]\tLoss: 0.869669\n",
      "Train Epoch: 1 [23040/60000 (38%)]\tLoss: 0.754658\n",
      "Train Epoch: 1 [23680/60000 (39%)]\tLoss: 0.771943\n",
      "Train Epoch: 1 [24320/60000 (41%)]\tLoss: 0.959715\n",
      "Train Epoch: 1 [24960/60000 (42%)]\tLoss: 0.734657\n",
      "Train Epoch: 1 [25600/60000 (43%)]\tLoss: 0.750627\n",
      "Train Epoch: 1 [26240/60000 (44%)]\tLoss: 0.549923\n",
      "Train Epoch: 1 [26880/60000 (45%)]\tLoss: 0.633832\n",
      "Train Epoch: 1 [27520/60000 (46%)]\tLoss: 0.682161\n",
      "Train Epoch: 1 [28160/60000 (47%)]\tLoss: 0.698471\n",
      "Train Epoch: 1 [28800/60000 (48%)]\tLoss: 0.760848\n",
      "Train Epoch: 1 [29440/60000 (49%)]\tLoss: 0.514420\n",
      "Train Epoch: 1 [30080/60000 (50%)]\tLoss: 0.592554\n",
      "Train Epoch: 1 [30720/60000 (51%)]\tLoss: 0.457413\n",
      "Train Epoch: 1 [31360/60000 (52%)]\tLoss: 0.576671\n",
      "Train Epoch: 1 [32000/60000 (53%)]\tLoss: 0.739899\n",
      "Train Epoch: 1 [32640/60000 (54%)]\tLoss: 0.843929\n",
      "Train Epoch: 1 [33280/60000 (55%)]\tLoss: 0.565884\n",
      "Train Epoch: 1 [33920/60000 (57%)]\tLoss: 0.484558\n",
      "Train Epoch: 1 [34560/60000 (58%)]\tLoss: 0.676132\n",
      "Train Epoch: 1 [35200/60000 (59%)]\tLoss: 0.526710\n",
      "Train Epoch: 1 [35840/60000 (60%)]\tLoss: 0.776700\n",
      "Train Epoch: 1 [36480/60000 (61%)]\tLoss: 0.588499\n",
      "Train Epoch: 1 [37120/60000 (62%)]\tLoss: 0.815390\n",
      "Train Epoch: 1 [37760/60000 (63%)]\tLoss: 0.715362\n",
      "Train Epoch: 1 [38400/60000 (64%)]\tLoss: 0.542343\n",
      "Train Epoch: 1 [39040/60000 (65%)]\tLoss: 0.619583\n",
      "Train Epoch: 1 [39680/60000 (66%)]\tLoss: 0.804047\n",
      "Train Epoch: 1 [40320/60000 (67%)]\tLoss: 0.475064\n",
      "Train Epoch: 1 [40960/60000 (68%)]\tLoss: 0.647411\n",
      "Train Epoch: 1 [41600/60000 (69%)]\tLoss: 0.434108\n",
      "Train Epoch: 1 [42240/60000 (70%)]\tLoss: 0.397237\n",
      "Train Epoch: 1 [42880/60000 (71%)]\tLoss: 0.703891\n",
      "Train Epoch: 1 [43520/60000 (72%)]\tLoss: 0.425283\n",
      "Train Epoch: 1 [44160/60000 (74%)]\tLoss: 0.525719\n",
      "Train Epoch: 1 [44800/60000 (75%)]\tLoss: 0.530753\n",
      "Train Epoch: 1 [45440/60000 (76%)]\tLoss: 0.590085\n",
      "Train Epoch: 1 [46080/60000 (77%)]\tLoss: 0.593764\n",
      "Train Epoch: 1 [46720/60000 (78%)]\tLoss: 0.528270\n",
      "Train Epoch: 1 [47360/60000 (79%)]\tLoss: 0.418998\n",
      "Train Epoch: 1 [48000/60000 (80%)]\tLoss: 0.576470\n",
      "Train Epoch: 1 [48640/60000 (81%)]\tLoss: 0.640337\n",
      "Train Epoch: 1 [49280/60000 (82%)]\tLoss: 0.478381\n",
      "Train Epoch: 1 [49920/60000 (83%)]\tLoss: 0.451585\n",
      "Train Epoch: 1 [50560/60000 (84%)]\tLoss: 0.475859\n",
      "Train Epoch: 1 [51200/60000 (85%)]\tLoss: 0.712926\n",
      "Train Epoch: 1 [51840/60000 (86%)]\tLoss: 0.453110\n",
      "Train Epoch: 1 [52480/60000 (87%)]\tLoss: 0.405818\n",
      "Train Epoch: 1 [53120/60000 (88%)]\tLoss: 0.470333\n",
      "Train Epoch: 1 [53760/60000 (90%)]\tLoss: 0.367888\n",
      "Train Epoch: 1 [54400/60000 (91%)]\tLoss: 0.471864\n",
      "Train Epoch: 1 [55040/60000 (92%)]\tLoss: 0.601458\n",
      "Train Epoch: 1 [55680/60000 (93%)]\tLoss: 0.339624\n",
      "Train Epoch: 1 [56320/60000 (94%)]\tLoss: 0.390072\n",
      "Train Epoch: 1 [56960/60000 (95%)]\tLoss: 0.353048\n",
      "Train Epoch: 1 [57600/60000 (96%)]\tLoss: 0.426999\n",
      "Train Epoch: 1 [58240/60000 (97%)]\tLoss: 0.413373\n",
      "Train Epoch: 1 [58880/60000 (98%)]\tLoss: 0.371690\n",
      "Train Epoch: 1 [59520/60000 (99%)]\tLoss: 0.507043\n",
      "\n",
      "Test set: Average loss: 0.1716, Accuracy: 9495/10000 (95%)\n",
      "\n"
     ]
    }
   ],
   "source": [
    "for epoch in range(1, args.epochs + 1):\n",
    "        train(args, model, device, train_loader, optimizer, epoch)\n",
    "        test(args, model, device, test_loader)"
   ]
  },
  {
   "cell_type": "markdown",
   "metadata": {},
   "source": [
    "** Save model **"
   ]
  },
  {
   "cell_type": "code",
   "execution_count": 9,
   "metadata": {},
   "outputs": [],
   "source": [
    "args.save_model = True\n",
    "saved_model_filename = \"mnist_cnn.pt\"\n",
    "if (args.save_model):\n",
    "    torch.save(model.state_dict(), saved_model_filename)"
   ]
  },
  {
   "cell_type": "code",
   "execution_count": null,
   "metadata": {},
   "outputs": [],
   "source": [
    "!ls -o"
   ]
  },
  {
   "cell_type": "markdown",
   "metadata": {},
   "source": [
    "** Work with the trained models **"
   ]
  },
  {
   "cell_type": "markdown",
   "metadata": {},
   "source": [
    "Instantiate and load previously trained model parameters."
   ]
  },
  {
   "cell_type": "code",
   "execution_count": 10,
   "metadata": {},
   "outputs": [
    {
     "data": {
      "text/plain": [
       "<All keys matched successfully>"
      ]
     },
     "execution_count": 10,
     "metadata": {},
     "output_type": "execute_result"
    }
   ],
   "source": [
    "mnist_model = Net()\n",
    "mnist_model.load_state_dict(torch.load(saved_model_filename, map_location='cpu'))"
   ]
  },
  {
   "cell_type": "code",
   "execution_count": 11,
   "metadata": {},
   "outputs": [
    {
     "name": "stdout",
     "output_type": "stream",
     "text": [
      "Requirement already satisfied: wget in /opt/anaconda/envs/wmlce/lib/python3.7/site-packages (3.2)\r\n"
     ]
    }
   ],
   "source": [
    "!pip install wget"
   ]
  },
  {
   "cell_type": "code",
   "execution_count": 12,
   "metadata": {},
   "outputs": [
    {
     "name": "stdout",
     "output_type": "stream",
     "text": [
      "['img_1.jpg', 'img_2.jpg', 'img_3.jpg', 'img_4.jpg', 'img_5.jpg', 'img_6.jpg', 'img_7.jpg', 'img_8.jpg', 'img_9.jpg']\n"
     ]
    }
   ],
   "source": [
    "import os\n",
    "import wget\n",
    "\n",
    "images =[]\n",
    "for i in range(1,10):\n",
    "    filename = \"img_\"+str(i)+\".jpg\"\n",
    "    images.append(filename)\n",
    "    if not os.path.isfile(filename):\n",
    "        path = \"https://github.com/IBM/pytorch-on-watson-studio/raw/master/data/images/\"+filename\n",
    "        wget.download(path)\n",
    "\n",
    "print(images)"
   ]
  },
  {
   "cell_type": "markdown",
   "metadata": {},
   "source": [
    "Using the trained model to predict the digits in the sample image files."
   ]
  },
  {
   "cell_type": "code",
   "execution_count": 13,
   "metadata": {},
   "outputs": [],
   "source": [
    "import numpy as np\n",
    "from IPython.display import display\n",
    "from PIL import Image"
   ]
  },
  {
   "cell_type": "markdown",
   "metadata": {},
   "source": [
    "**Python-First**\n",
    "\n",
    "PyTorch is not a Python binding into a monolithic C++ framework.\n",
    "It’s built to be deeply integrated into Python so it can\n",
    "be used with popular Python libraries.\n",
    "\n",
    "The code below shows how to convert a NumPy array to\n",
    "a PyTorch tensor using `torch.from_numpy`."
   ]
  },
  {
   "cell_type": "code",
   "execution_count": 14,
   "metadata": {},
   "outputs": [
    {
     "data": {
      "image/png": "[encoded data removed]",
      "text/plain": [
       "<PIL.Image.Image image mode=L size=28x28 at 0x7FEE41347ED0>"
      ]
     },
     "metadata": {},
     "output_type": "display_data"
    },
    {
     "name": "stdout",
     "output_type": "stream",
     "text": [
      "Prediction for image number 1 is: 2\n"
     ]
    },
    {
     "data": {
      "image/png": "[encoded data removed]",
      "text/plain": [
       "<PIL.Image.Image image mode=L size=28x28 at 0x7FEE4130DBD0>"
      ]
     },
     "metadata": {},
     "output_type": "display_data"
    },
    {
     "name": "stdout",
     "output_type": "stream",
     "text": [
      "Prediction for image number 2 is: 0\n"
     ]
    },
    {
     "data": {
      "image/png": "[encoded data removed]",
      "text/plain": [
       "<PIL.Image.Image image mode=L size=28x28 at 0x7FEE4130DB90>"
      ]
     },
     "metadata": {},
     "output_type": "display_data"
    },
    {
     "name": "stdout",
     "output_type": "stream",
     "text": [
      "Prediction for image number 3 is: 9\n"
     ]
    },
    {
     "data": {
      "image/png": "[encoded data removed]",
      "text/plain": [
       "<PIL.Image.Image image mode=L size=28x28 at 0x7FEE4130D5D0>"
      ]
     },
     "metadata": {},
     "output_type": "display_data"
    },
    {
     "name": "stdout",
     "output_type": "stream",
     "text": [
      "Prediction for image number 4 is: 9\n"
     ]
    },
    {
     "data": {
      "image/png": "[encoded data removed]",
      "text/plain": [
       "<PIL.Image.Image image mode=L size=28x28 at 0x7FEE4130D590>"
      ]
     },
     "metadata": {},
     "output_type": "display_data"
    },
    {
     "name": "stdout",
     "output_type": "stream",
     "text": [
      "Prediction for image number 5 is: 3\n"
     ]
    },
    {
     "data": {
      "image/png": "[encoded data removed]",
      "text/plain": [
       "<PIL.Image.Image image mode=L size=28x28 at 0x7FEE4130D8D0>"
      ]
     },
     "metadata": {},
     "output_type": "display_data"
    },
    {
     "name": "stdout",
     "output_type": "stream",
     "text": [
      "Prediction for image number 6 is: 7\n"
     ]
    },
    {
     "data": {
      "image/png": "[encoded data removed]",
      "text/plain": [
       "<PIL.Image.Image image mode=L size=28x28 at 0x7FEE4130D650>"
      ]
     },
     "metadata": {},
     "output_type": "display_data"
    },
    {
     "name": "stdout",
     "output_type": "stream",
     "text": [
      "Prediction for image number 7 is: 0\n"
     ]
    },
    {
     "data": {
      "image/png": "[encoded data removed]",
      "text/plain": [
       "<PIL.Image.Image image mode=L size=28x28 at 0x7FEE4130DBD0>"
      ]
     },
     "metadata": {},
     "output_type": "display_data"
    },
    {
     "name": "stdout",
     "output_type": "stream",
     "text": [
      "Prediction for image number 8 is: 3\n"
     ]
    },
    {
     "data": {
      "image/png": "[encoded data removed]",
      "text/plain": [
       "<PIL.Image.Image image mode=L size=28x28 at 0x7FEE4130DC50>"
      ]
     },
     "metadata": {},
     "output_type": "display_data"
    },
    {
     "name": "stdout",
     "output_type": "stream",
     "text": [
      "Prediction for image number 9 is: 0\n"
     ]
    }
   ],
   "source": [
    "digits = [i for i in range(10)]\n",
    "\n",
    "mnist_model.eval()\n",
    "for i, filename in enumerate(images):\n",
    "    img = Image.open(filename).resize((28, 28)).convert('L')\n",
    "    display(img)\n",
    "    data = torch.from_numpy(np.asarray(img, dtype=np.float32)[np.newaxis, np.newaxis, :, :])\n",
    "    output = mnist_model(data)\n",
    "    # get the index of the max log-probability\n",
    "    prediction = output.max(1, keepdim=True)[1]\n",
    "    print(\"Prediction for image number\", i+1, \"is:\",  digits[prediction[0,0]])"
   ]
  },
  {
   "cell_type": "markdown",
   "metadata": {},
   "source": [
    "** Native ONNX Support**\n",
    "\n",
    "PyTorch includes native <a href=\"http://onnx.ai/\">Open Neural Network Exchange (ONNX)</a> support. \n",
    "\n",
    "The following code will export models in the standard ONNX\n",
    "Open Neural Network Exchange) format so that the models can be consumed\n",
    "by ONNX-compatible platforms, runtimes, visualizers, and more.\n",
    "\n",
    "PyTorch exports the model by running the model through the training path once\n",
    "and then save the traced model to a file using ONNX format.\n",
    "\n",
    "**Tip:** You can test the exported ONNX format model by importing and\n",
    "running it in an ONNX-comptible famework. See\n",
    "<a href=\"https://github.com/onnx/tutorials/tree/master/tutorials\">ONNX tutorials</a>\n",
    "for more information. \n"
   ]
  },
  {
   "cell_type": "code",
   "execution_count": 15,
   "metadata": {},
   "outputs": [],
   "source": [
    "# Export the trained model to ONNX\n",
    "# one black and white 28 x 28 picture will be used as the input to the model\n",
    "dummy_input = torch.randn(1, 1, 28, 28) \n",
    "\n",
    "onnx_model_filename = \"mnist.onnx\"\n",
    "torch.onnx.export(mnist_model, dummy_input,onnx_model_filename)"
   ]
  },
  {
   "cell_type": "markdown",
   "metadata": {},
   "source": [
    "## Citations\n",
    "Y. LeCun, L. Bottou, Y. Bengio, and P. Haffner. \"Gradient-based learning applied to document recognition.\" Proceedings of the IEEE, 86(11):2278-2324, November 1998."
   ]
  },
  {
   "cell_type": "markdown",
   "metadata": {},
   "source": [
    "## References\n",
    "* 1. <a href=\"https://developer.ibm.com/linuxonpower/deep-learning-powerai/\">PowerAI</a>.\n",
    "* 2. <a href=\"https://pytorch.org/\">PyTorch</a>.\n",
    "* 3. <a href=\"https://github.com/pytorch/examples/tree/master/mnist\">MNIST mode</a> from the official PyTorch examples repository."
   ]
  }
 ],
 "metadata": {
  "kernelspec": {
   "display_name": "Python 3",
   "language": "python",
   "name": "python3"
  },
  "language_info": {
   "codemirror_mode": {
    "name": "ipython",
    "version": 3
   },
   "file_extension": ".py",
   "mimetype": "text/x-python",
   "name": "python",
   "nbconvert_exporter": "python",
   "pygments_lexer": "ipython3",
   "version": "3.7.5"
  }
 },
 "nbformat": 4,
 "nbformat_minor": 1
}
